{
 "cells": [
  {
   "cell_type": "code",
   "execution_count": 1,
   "id": "bbe26cd7",
   "metadata": {},
   "outputs": [],
   "source": [
    "#importing necessary libraries\n",
    "\n",
    "import pandas as pd\n",
    "import numpy as np\n",
    "import matplotlib.pyplot as plt \n",
    "%matplotlib inline\n",
    "import seaborn as sns\n",
    "\n",
    "import warnings\n",
    "warnings.filterwarnings('ignore')"
   ]
  },
  {
   "cell_type": "code",
   "execution_count": 2,
   "id": "8adbd00e",
   "metadata": {},
   "outputs": [
    {
     "data": {
      "text/html": [
       "<div>\n",
       "<style scoped>\n",
       "    .dataframe tbody tr th:only-of-type {\n",
       "        vertical-align: middle;\n",
       "    }\n",
       "\n",
       "    .dataframe tbody tr th {\n",
       "        vertical-align: top;\n",
       "    }\n",
       "\n",
       "    .dataframe thead th {\n",
       "        text-align: right;\n",
       "    }\n",
       "</style>\n",
       "<table border=\"1\" class=\"dataframe\">\n",
       "  <thead>\n",
       "    <tr style=\"text-align: right;\">\n",
       "      <th></th>\n",
       "      <th>Respondent</th>\n",
       "      <th>MainBranch</th>\n",
       "      <th>Hobbyist</th>\n",
       "      <th>Age</th>\n",
       "      <th>Age1stCode</th>\n",
       "      <th>CompFreq</th>\n",
       "      <th>CompTotal</th>\n",
       "      <th>ConvertedComp</th>\n",
       "      <th>Country</th>\n",
       "      <th>CurrencyDesc</th>\n",
       "      <th>...</th>\n",
       "      <th>SurveyEase</th>\n",
       "      <th>SurveyLength</th>\n",
       "      <th>Trans</th>\n",
       "      <th>UndergradMajor</th>\n",
       "      <th>WebframeDesireNextYear</th>\n",
       "      <th>WebframeWorkedWith</th>\n",
       "      <th>WelcomeChange</th>\n",
       "      <th>WorkWeekHrs</th>\n",
       "      <th>YearsCode</th>\n",
       "      <th>YearsCodePro</th>\n",
       "    </tr>\n",
       "  </thead>\n",
       "  <tbody>\n",
       "    <tr>\n",
       "      <th>0</th>\n",
       "      <td>1</td>\n",
       "      <td>I am a developer by profession</td>\n",
       "      <td>Yes</td>\n",
       "      <td>NaN</td>\n",
       "      <td>13</td>\n",
       "      <td>Monthly</td>\n",
       "      <td>NaN</td>\n",
       "      <td>NaN</td>\n",
       "      <td>Germany</td>\n",
       "      <td>European Euro</td>\n",
       "      <td>...</td>\n",
       "      <td>Neither easy nor difficult</td>\n",
       "      <td>Appropriate in length</td>\n",
       "      <td>No</td>\n",
       "      <td>Computer science, computer engineering, or sof...</td>\n",
       "      <td>ASP.NET Core</td>\n",
       "      <td>ASP.NET;ASP.NET Core</td>\n",
       "      <td>Just as welcome now as I felt last year</td>\n",
       "      <td>50.0</td>\n",
       "      <td>36</td>\n",
       "      <td>27</td>\n",
       "    </tr>\n",
       "    <tr>\n",
       "      <th>1</th>\n",
       "      <td>2</td>\n",
       "      <td>I am a developer by profession</td>\n",
       "      <td>No</td>\n",
       "      <td>NaN</td>\n",
       "      <td>19</td>\n",
       "      <td>NaN</td>\n",
       "      <td>NaN</td>\n",
       "      <td>NaN</td>\n",
       "      <td>United Kingdom</td>\n",
       "      <td>Pound sterling</td>\n",
       "      <td>...</td>\n",
       "      <td>NaN</td>\n",
       "      <td>NaN</td>\n",
       "      <td>NaN</td>\n",
       "      <td>Computer science, computer engineering, or sof...</td>\n",
       "      <td>NaN</td>\n",
       "      <td>NaN</td>\n",
       "      <td>Somewhat more welcome now than last year</td>\n",
       "      <td>NaN</td>\n",
       "      <td>7</td>\n",
       "      <td>4</td>\n",
       "    </tr>\n",
       "    <tr>\n",
       "      <th>2</th>\n",
       "      <td>3</td>\n",
       "      <td>I code primarily as a hobby</td>\n",
       "      <td>Yes</td>\n",
       "      <td>NaN</td>\n",
       "      <td>15</td>\n",
       "      <td>NaN</td>\n",
       "      <td>NaN</td>\n",
       "      <td>NaN</td>\n",
       "      <td>Russian Federation</td>\n",
       "      <td>NaN</td>\n",
       "      <td>...</td>\n",
       "      <td>Neither easy nor difficult</td>\n",
       "      <td>Appropriate in length</td>\n",
       "      <td>NaN</td>\n",
       "      <td>NaN</td>\n",
       "      <td>NaN</td>\n",
       "      <td>NaN</td>\n",
       "      <td>Somewhat more welcome now than last year</td>\n",
       "      <td>NaN</td>\n",
       "      <td>4</td>\n",
       "      <td>NaN</td>\n",
       "    </tr>\n",
       "    <tr>\n",
       "      <th>3</th>\n",
       "      <td>4</td>\n",
       "      <td>I am a developer by profession</td>\n",
       "      <td>Yes</td>\n",
       "      <td>25.0</td>\n",
       "      <td>18</td>\n",
       "      <td>NaN</td>\n",
       "      <td>NaN</td>\n",
       "      <td>NaN</td>\n",
       "      <td>Albania</td>\n",
       "      <td>Albanian lek</td>\n",
       "      <td>...</td>\n",
       "      <td>NaN</td>\n",
       "      <td>NaN</td>\n",
       "      <td>No</td>\n",
       "      <td>Computer science, computer engineering, or sof...</td>\n",
       "      <td>NaN</td>\n",
       "      <td>NaN</td>\n",
       "      <td>Somewhat less welcome now than last year</td>\n",
       "      <td>40.0</td>\n",
       "      <td>7</td>\n",
       "      <td>4</td>\n",
       "    </tr>\n",
       "    <tr>\n",
       "      <th>4</th>\n",
       "      <td>5</td>\n",
       "      <td>I used to be a developer by profession, but no...</td>\n",
       "      <td>Yes</td>\n",
       "      <td>31.0</td>\n",
       "      <td>16</td>\n",
       "      <td>NaN</td>\n",
       "      <td>NaN</td>\n",
       "      <td>NaN</td>\n",
       "      <td>United States</td>\n",
       "      <td>NaN</td>\n",
       "      <td>...</td>\n",
       "      <td>Easy</td>\n",
       "      <td>Too short</td>\n",
       "      <td>No</td>\n",
       "      <td>Computer science, computer engineering, or sof...</td>\n",
       "      <td>Django;Ruby on Rails</td>\n",
       "      <td>Ruby on Rails</td>\n",
       "      <td>Just as welcome now as I felt last year</td>\n",
       "      <td>NaN</td>\n",
       "      <td>15</td>\n",
       "      <td>8</td>\n",
       "    </tr>\n",
       "    <tr>\n",
       "      <th>...</th>\n",
       "      <td>...</td>\n",
       "      <td>...</td>\n",
       "      <td>...</td>\n",
       "      <td>...</td>\n",
       "      <td>...</td>\n",
       "      <td>...</td>\n",
       "      <td>...</td>\n",
       "      <td>...</td>\n",
       "      <td>...</td>\n",
       "      <td>...</td>\n",
       "      <td>...</td>\n",
       "      <td>...</td>\n",
       "      <td>...</td>\n",
       "      <td>...</td>\n",
       "      <td>...</td>\n",
       "      <td>...</td>\n",
       "      <td>...</td>\n",
       "      <td>...</td>\n",
       "      <td>...</td>\n",
       "      <td>...</td>\n",
       "      <td>...</td>\n",
       "    </tr>\n",
       "    <tr>\n",
       "      <th>64456</th>\n",
       "      <td>64858</td>\n",
       "      <td>NaN</td>\n",
       "      <td>Yes</td>\n",
       "      <td>NaN</td>\n",
       "      <td>16</td>\n",
       "      <td>NaN</td>\n",
       "      <td>NaN</td>\n",
       "      <td>NaN</td>\n",
       "      <td>United States</td>\n",
       "      <td>NaN</td>\n",
       "      <td>...</td>\n",
       "      <td>NaN</td>\n",
       "      <td>NaN</td>\n",
       "      <td>NaN</td>\n",
       "      <td>Computer science, computer engineering, or sof...</td>\n",
       "      <td>NaN</td>\n",
       "      <td>NaN</td>\n",
       "      <td>NaN</td>\n",
       "      <td>NaN</td>\n",
       "      <td>10</td>\n",
       "      <td>Less than 1 year</td>\n",
       "    </tr>\n",
       "    <tr>\n",
       "      <th>64457</th>\n",
       "      <td>64867</td>\n",
       "      <td>NaN</td>\n",
       "      <td>Yes</td>\n",
       "      <td>NaN</td>\n",
       "      <td>NaN</td>\n",
       "      <td>NaN</td>\n",
       "      <td>NaN</td>\n",
       "      <td>NaN</td>\n",
       "      <td>Morocco</td>\n",
       "      <td>NaN</td>\n",
       "      <td>...</td>\n",
       "      <td>NaN</td>\n",
       "      <td>NaN</td>\n",
       "      <td>NaN</td>\n",
       "      <td>NaN</td>\n",
       "      <td>NaN</td>\n",
       "      <td>NaN</td>\n",
       "      <td>NaN</td>\n",
       "      <td>NaN</td>\n",
       "      <td>NaN</td>\n",
       "      <td>NaN</td>\n",
       "    </tr>\n",
       "    <tr>\n",
       "      <th>64458</th>\n",
       "      <td>64898</td>\n",
       "      <td>NaN</td>\n",
       "      <td>Yes</td>\n",
       "      <td>NaN</td>\n",
       "      <td>NaN</td>\n",
       "      <td>NaN</td>\n",
       "      <td>NaN</td>\n",
       "      <td>NaN</td>\n",
       "      <td>Viet Nam</td>\n",
       "      <td>NaN</td>\n",
       "      <td>...</td>\n",
       "      <td>NaN</td>\n",
       "      <td>NaN</td>\n",
       "      <td>NaN</td>\n",
       "      <td>NaN</td>\n",
       "      <td>NaN</td>\n",
       "      <td>NaN</td>\n",
       "      <td>NaN</td>\n",
       "      <td>NaN</td>\n",
       "      <td>NaN</td>\n",
       "      <td>NaN</td>\n",
       "    </tr>\n",
       "    <tr>\n",
       "      <th>64459</th>\n",
       "      <td>64925</td>\n",
       "      <td>NaN</td>\n",
       "      <td>Yes</td>\n",
       "      <td>NaN</td>\n",
       "      <td>NaN</td>\n",
       "      <td>NaN</td>\n",
       "      <td>NaN</td>\n",
       "      <td>NaN</td>\n",
       "      <td>Poland</td>\n",
       "      <td>NaN</td>\n",
       "      <td>...</td>\n",
       "      <td>NaN</td>\n",
       "      <td>NaN</td>\n",
       "      <td>NaN</td>\n",
       "      <td>NaN</td>\n",
       "      <td>Angular;Angular.js;React.js</td>\n",
       "      <td>NaN</td>\n",
       "      <td>NaN</td>\n",
       "      <td>NaN</td>\n",
       "      <td>NaN</td>\n",
       "      <td>NaN</td>\n",
       "    </tr>\n",
       "    <tr>\n",
       "      <th>64460</th>\n",
       "      <td>65112</td>\n",
       "      <td>NaN</td>\n",
       "      <td>Yes</td>\n",
       "      <td>NaN</td>\n",
       "      <td>NaN</td>\n",
       "      <td>NaN</td>\n",
       "      <td>NaN</td>\n",
       "      <td>NaN</td>\n",
       "      <td>Spain</td>\n",
       "      <td>NaN</td>\n",
       "      <td>...</td>\n",
       "      <td>NaN</td>\n",
       "      <td>NaN</td>\n",
       "      <td>NaN</td>\n",
       "      <td>Computer science, computer engineering, or sof...</td>\n",
       "      <td>ASP.NET Core;jQuery</td>\n",
       "      <td>Angular;Angular.js;ASP.NET Core;jQuery</td>\n",
       "      <td>NaN</td>\n",
       "      <td>NaN</td>\n",
       "      <td>NaN</td>\n",
       "      <td>NaN</td>\n",
       "    </tr>\n",
       "  </tbody>\n",
       "</table>\n",
       "<p>64461 rows × 61 columns</p>\n",
       "</div>"
      ],
      "text/plain": [
       "       Respondent                                         MainBranch Hobbyist  \\\n",
       "0               1                     I am a developer by profession      Yes   \n",
       "1               2                     I am a developer by profession       No   \n",
       "2               3                        I code primarily as a hobby      Yes   \n",
       "3               4                     I am a developer by profession      Yes   \n",
       "4               5  I used to be a developer by profession, but no...      Yes   \n",
       "...           ...                                                ...      ...   \n",
       "64456       64858                                                NaN      Yes   \n",
       "64457       64867                                                NaN      Yes   \n",
       "64458       64898                                                NaN      Yes   \n",
       "64459       64925                                                NaN      Yes   \n",
       "64460       65112                                                NaN      Yes   \n",
       "\n",
       "        Age Age1stCode CompFreq  CompTotal  ConvertedComp             Country  \\\n",
       "0       NaN         13  Monthly        NaN            NaN             Germany   \n",
       "1       NaN         19      NaN        NaN            NaN      United Kingdom   \n",
       "2       NaN         15      NaN        NaN            NaN  Russian Federation   \n",
       "3      25.0         18      NaN        NaN            NaN             Albania   \n",
       "4      31.0         16      NaN        NaN            NaN       United States   \n",
       "...     ...        ...      ...        ...            ...                 ...   \n",
       "64456   NaN         16      NaN        NaN            NaN       United States   \n",
       "64457   NaN        NaN      NaN        NaN            NaN             Morocco   \n",
       "64458   NaN        NaN      NaN        NaN            NaN            Viet Nam   \n",
       "64459   NaN        NaN      NaN        NaN            NaN              Poland   \n",
       "64460   NaN        NaN      NaN        NaN            NaN               Spain   \n",
       "\n",
       "         CurrencyDesc  ...                  SurveyEase           SurveyLength  \\\n",
       "0       European Euro  ...  Neither easy nor difficult  Appropriate in length   \n",
       "1      Pound sterling  ...                         NaN                    NaN   \n",
       "2                 NaN  ...  Neither easy nor difficult  Appropriate in length   \n",
       "3        Albanian lek  ...                         NaN                    NaN   \n",
       "4                 NaN  ...                        Easy              Too short   \n",
       "...               ...  ...                         ...                    ...   \n",
       "64456             NaN  ...                         NaN                    NaN   \n",
       "64457             NaN  ...                         NaN                    NaN   \n",
       "64458             NaN  ...                         NaN                    NaN   \n",
       "64459             NaN  ...                         NaN                    NaN   \n",
       "64460             NaN  ...                         NaN                    NaN   \n",
       "\n",
       "      Trans                                     UndergradMajor  \\\n",
       "0        No  Computer science, computer engineering, or sof...   \n",
       "1       NaN  Computer science, computer engineering, or sof...   \n",
       "2       NaN                                                NaN   \n",
       "3        No  Computer science, computer engineering, or sof...   \n",
       "4        No  Computer science, computer engineering, or sof...   \n",
       "...     ...                                                ...   \n",
       "64456   NaN  Computer science, computer engineering, or sof...   \n",
       "64457   NaN                                                NaN   \n",
       "64458   NaN                                                NaN   \n",
       "64459   NaN                                                NaN   \n",
       "64460   NaN  Computer science, computer engineering, or sof...   \n",
       "\n",
       "            WebframeDesireNextYear                      WebframeWorkedWith  \\\n",
       "0                     ASP.NET Core                    ASP.NET;ASP.NET Core   \n",
       "1                              NaN                                     NaN   \n",
       "2                              NaN                                     NaN   \n",
       "3                              NaN                                     NaN   \n",
       "4             Django;Ruby on Rails                           Ruby on Rails   \n",
       "...                            ...                                     ...   \n",
       "64456                          NaN                                     NaN   \n",
       "64457                          NaN                                     NaN   \n",
       "64458                          NaN                                     NaN   \n",
       "64459  Angular;Angular.js;React.js                                     NaN   \n",
       "64460          ASP.NET Core;jQuery  Angular;Angular.js;ASP.NET Core;jQuery   \n",
       "\n",
       "                                  WelcomeChange WorkWeekHrs YearsCode  \\\n",
       "0       Just as welcome now as I felt last year        50.0        36   \n",
       "1      Somewhat more welcome now than last year         NaN         7   \n",
       "2      Somewhat more welcome now than last year         NaN         4   \n",
       "3      Somewhat less welcome now than last year        40.0         7   \n",
       "4       Just as welcome now as I felt last year         NaN        15   \n",
       "...                                         ...         ...       ...   \n",
       "64456                                       NaN         NaN        10   \n",
       "64457                                       NaN         NaN       NaN   \n",
       "64458                                       NaN         NaN       NaN   \n",
       "64459                                       NaN         NaN       NaN   \n",
       "64460                                       NaN         NaN       NaN   \n",
       "\n",
       "           YearsCodePro  \n",
       "0                    27  \n",
       "1                     4  \n",
       "2                   NaN  \n",
       "3                     4  \n",
       "4                     8  \n",
       "...                 ...  \n",
       "64456  Less than 1 year  \n",
       "64457               NaN  \n",
       "64458               NaN  \n",
       "64459               NaN  \n",
       "64460               NaN  \n",
       "\n",
       "[64461 rows x 61 columns]"
      ]
     },
     "execution_count": 2,
     "metadata": {},
     "output_type": "execute_result"
    }
   ],
   "source": [
    "#importing the dataset\n",
    "\n",
    "surveyy=pd.read_csv(\"survey_results_public.csv\",encoding='unicode_escape',low_memory=False)\n",
    "surveyy"
   ]
  },
  {
   "cell_type": "markdown",
   "id": "c94ca6b9",
   "metadata": {},
   "source": [
    " # Exploratory data analysis"
   ]
  },
  {
   "cell_type": "code",
   "execution_count": 3,
   "id": "563bf137",
   "metadata": {},
   "outputs": [
    {
     "data": {
      "text/plain": [
       "(64461, 61)"
      ]
     },
     "execution_count": 3,
     "metadata": {},
     "output_type": "execute_result"
    }
   ],
   "source": [
    "#checking the shape of the dataset\n",
    "\n",
    "surveyy.shape"
   ]
  },
  {
   "cell_type": "code",
   "execution_count": 4,
   "id": "6a64b6bf",
   "metadata": {},
   "outputs": [
    {
     "data": {
      "text/plain": [
       "Respondent                0\n",
       "MainBranch              299\n",
       "Hobbyist                 45\n",
       "Age                   19015\n",
       "Age1stCode             6561\n",
       "                      ...  \n",
       "WebframeWorkedWith    22182\n",
       "WelcomeChange         11778\n",
       "WorkWeekHrs           23310\n",
       "YearsCode              6777\n",
       "YearsCodePro          18112\n",
       "Length: 61, dtype: int64"
      ]
     },
     "execution_count": 4,
     "metadata": {},
     "output_type": "execute_result"
    }
   ],
   "source": [
    "#checking the null values count in the dataset\n",
    "surveyy.isna().sum()"
   ]
  },
  {
   "cell_type": "code",
   "execution_count": 5,
   "id": "57dd93f5",
   "metadata": {},
   "outputs": [
    {
     "data": {
      "text/plain": [
       "Index(['Respondent', 'MainBranch', 'Hobbyist', 'Age', 'Age1stCode', 'CompFreq',\n",
       "       'CompTotal', 'ConvertedComp', 'Country', 'CurrencyDesc',\n",
       "       'CurrencySymbol', 'DatabaseDesireNextYear', 'DatabaseWorkedWith',\n",
       "       'DevType', 'EdLevel', 'Employment', 'Ethnicity', 'Gender', 'JobFactors',\n",
       "       'JobSat', 'JobSeek', 'LanguageDesireNextYear', 'LanguageWorkedWith',\n",
       "       'MiscTechDesireNextYear', 'MiscTechWorkedWith',\n",
       "       'NEWCollabToolsDesireNextYear', 'NEWCollabToolsWorkedWith', 'NEWDevOps',\n",
       "       'NEWDevOpsImpt', 'NEWEdImpt', 'NEWJobHunt', 'NEWJobHuntResearch',\n",
       "       'NEWLearn', 'NEWOffTopic', 'NEWOnboardGood', 'NEWOtherComms',\n",
       "       'NEWOvertime', 'NEWPurchaseResearch', 'NEWPurpleLink', 'NEWSOSites',\n",
       "       'NEWStuck', 'OpSys', 'OrgSize', 'PlatformDesireNextYear',\n",
       "       'PlatformWorkedWith', 'PurchaseWhat', 'Sexuality', 'SOAccount',\n",
       "       'SOComm', 'SOPartFreq', 'SOVisitFreq', 'SurveyEase', 'SurveyLength',\n",
       "       'Trans', 'UndergradMajor', 'WebframeDesireNextYear',\n",
       "       'WebframeWorkedWith', 'WelcomeChange', 'WorkWeekHrs', 'YearsCode',\n",
       "       'YearsCodePro'],\n",
       "      dtype='object')"
      ]
     },
     "execution_count": 5,
     "metadata": {},
     "output_type": "execute_result"
    }
   ],
   "source": [
    "#checking the colomn names of the dataset\n",
    "surveyy.columns"
   ]
  },
  {
   "cell_type": "code",
   "execution_count": 6,
   "id": "ea5377a4",
   "metadata": {},
   "outputs": [],
   "source": [
    " #dropping uneccesary features.\n",
    "\n",
    "surveyy.drop('Respondent',axis=1,inplace=True)\n",
    "surveyy.drop('MainBranch',axis=1,inplace=True)\n",
    "surveyy.drop('Hobbyist',axis=1,inplace=True)\n",
    "surveyy.drop('CompFreq',axis=1,inplace=True) \n",
    "surveyy.drop('ConvertedComp',axis=1,inplace=True)\n",
    "surveyy.drop('Country',axis=1,inplace=True)\n",
    "surveyy.drop('CurrencyDesc',axis=1,inplace=True)\n",
    "surveyy.drop('CurrencySymbol',axis=1,inplace=True)\n",
    "surveyy.drop('DatabaseDesireNextYear',axis=1,inplace=True)\n",
    "surveyy.drop('DatabaseWorkedWith',axis=1,inplace=True)\n",
    "surveyy.drop('DevType',axis=1,inplace=True)\n",
    "surveyy.drop('EdLevel',axis=1,inplace=True) \n",
    "surveyy.drop('Employment',axis=1,inplace=True) \n",
    "surveyy.drop('Ethnicity',axis=1,inplace=True)\n",
    "surveyy.drop('Gender',axis=1,inplace=True)\n",
    "surveyy.drop('JobFactors',axis=1,inplace=True)\n",
    "surveyy.drop('JobSat',axis=1,inplace=True)\n",
    "surveyy.drop('JobSeek',axis=1,inplace=True)\n",
    "surveyy.drop('LanguageDesireNextYear',axis=1,inplace=True)\n",
    "surveyy.drop('LanguageWorkedWith',axis=1,inplace=True)\n",
    "surveyy.drop('MiscTechDesireNextYear',axis=1,inplace=True)\n",
    "surveyy.drop('MiscTechWorkedWith',axis=1,inplace=True)\n",
    "surveyy.drop('NEWCollabToolsDesireNextYear',axis=1,inplace=True)\n",
    "surveyy.drop('NEWCollabToolsWorkedWith',axis=1,inplace=True)\n",
    "surveyy.drop('NEWJobHunt',axis=1,inplace=True)\n",
    "surveyy.drop('NEWJobHuntResearch',axis=1,inplace=True)\n",
    "surveyy.drop('NEWDevOps',axis=1,inplace=True) \n",
    "surveyy.drop('NEWDevOpsImpt',axis=1,inplace=True)\n",
    "surveyy.drop('NEWEdImpt',axis=1,inplace=True) \n",
    "surveyy.drop('NEWLearn',axis=1,inplace=True)  \n",
    "surveyy.drop('NEWOffTopic',axis=1,inplace=True) \n",
    "surveyy.drop('NEWOnboardGood',axis=1,inplace=True)\n",
    "surveyy.drop('NEWOtherComms',axis=1,inplace=True) \n",
    "surveyy.drop('NEWOvertime',axis=1,inplace=True)  \n",
    "surveyy.drop('NEWPurchaseResearch',axis=1,inplace=True) \n",
    "surveyy.drop('NEWPurpleLink',axis=1,inplace=True)\n",
    "surveyy.drop('NEWSOSites',axis=1,inplace=True) \n",
    "surveyy.drop('NEWStuck',axis=1,inplace=True)  \n",
    "surveyy.drop('OpSys',axis=1,inplace=True) \n",
    "surveyy.drop('OrgSize',axis=1,inplace=True)\n",
    "surveyy.drop('PlatformDesireNextYear',axis=1,inplace=True)\n",
    "surveyy.drop('PlatformWorkedWith',axis=1,inplace=True)   \n",
    "surveyy.drop('PurchaseWhat',axis=1,inplace=True)  \n",
    "surveyy.drop('Sexuality',axis=1,inplace=True) \n",
    "surveyy.drop('SOAccount',axis=1,inplace=True)\n",
    "surveyy.drop('SOComm',axis=1,inplace=True) \n",
    "surveyy.drop('SOPartFreq',axis=1,inplace=True)  \n",
    "surveyy.drop('SOVisitFreq',axis=1,inplace=True) \n",
    "surveyy.drop('SurveyEase',axis=1,inplace=True)\n",
    "surveyy.drop('SurveyLength',axis=1,inplace=True)  \n",
    "surveyy.drop('Trans',axis=1,inplace=True) \n",
    "surveyy.drop('UndergradMajor',axis=1,inplace=True)\n",
    "surveyy.drop('WebframeDesireNextYear',axis=1,inplace=True)  \n",
    "surveyy.drop('WebframeWorkedWith',axis=1,inplace=True) \n",
    "surveyy.drop('WelcomeChange',axis=1,inplace=True)\n",
    "surveyy.drop('WorkWeekHrs',axis=1,inplace=True) "
   ]
  },
  {
   "cell_type": "code",
   "execution_count": 7,
   "id": "ff9f5b63",
   "metadata": {},
   "outputs": [],
   "source": [
    "#Replacing(filling) null values of numerical features by its mean and by top values for non-numerical features.\n",
    "\n",
    "surveyy['Age']=surveyy['Age'].fillna(30.834111)\n",
    "surveyy['Age1stCode']=surveyy['Age1stCode'].fillna('15')\n",
    "surveyy['YearsCode']=surveyy['YearsCode'].fillna(10)\n",
    "surveyy['YearsCodePro']=surveyy['YearsCodePro'].fillna(3)"
   ]
  },
  {
   "cell_type": "code",
   "execution_count": 8,
   "id": "ac224a02",
   "metadata": {},
   "outputs": [
    {
     "name": "stdout",
     "output_type": "stream",
     "text": [
      "<class 'pandas.core.frame.DataFrame'>\n",
      "RangeIndex: 64461 entries, 0 to 64460\n",
      "Data columns (total 5 columns):\n",
      " #   Column        Non-Null Count  Dtype  \n",
      "---  ------        --------------  -----  \n",
      " 0   Age           64461 non-null  float64\n",
      " 1   Age1stCode    64461 non-null  object \n",
      " 2   CompTotal     34826 non-null  float64\n",
      " 3   YearsCode     64461 non-null  object \n",
      " 4   YearsCodePro  64461 non-null  object \n",
      "dtypes: float64(2), object(3)\n",
      "memory usage: 2.5+ MB\n"
     ]
    }
   ],
   "source": [
    "#checking the data type of the dataset\n",
    "surveyy.info()"
   ]
  },
  {
   "cell_type": "code",
   "execution_count": 9,
   "id": "847812b6",
   "metadata": {},
   "outputs": [
    {
     "data": {
      "text/html": [
       "<div>\n",
       "<style scoped>\n",
       "    .dataframe tbody tr th:only-of-type {\n",
       "        vertical-align: middle;\n",
       "    }\n",
       "\n",
       "    .dataframe tbody tr th {\n",
       "        vertical-align: top;\n",
       "    }\n",
       "\n",
       "    .dataframe thead th {\n",
       "        text-align: right;\n",
       "    }\n",
       "</style>\n",
       "<table border=\"1\" class=\"dataframe\">\n",
       "  <thead>\n",
       "    <tr style=\"text-align: right;\">\n",
       "      <th></th>\n",
       "      <th>Age</th>\n",
       "      <th>CompTotal</th>\n",
       "    </tr>\n",
       "  </thead>\n",
       "  <tbody>\n",
       "    <tr>\n",
       "      <th>count</th>\n",
       "      <td>64461.000000</td>\n",
       "      <td>3.482600e+04</td>\n",
       "    </tr>\n",
       "    <tr>\n",
       "      <th>mean</th>\n",
       "      <td>30.834111</td>\n",
       "      <td>3.190464e+242</td>\n",
       "    </tr>\n",
       "    <tr>\n",
       "      <th>std</th>\n",
       "      <td>8.048367</td>\n",
       "      <td>inf</td>\n",
       "    </tr>\n",
       "    <tr>\n",
       "      <th>min</th>\n",
       "      <td>1.000000</td>\n",
       "      <td>0.000000e+00</td>\n",
       "    </tr>\n",
       "    <tr>\n",
       "      <th>25%</th>\n",
       "      <td>26.000000</td>\n",
       "      <td>2.000000e+04</td>\n",
       "    </tr>\n",
       "    <tr>\n",
       "      <th>50%</th>\n",
       "      <td>30.834111</td>\n",
       "      <td>6.300000e+04</td>\n",
       "    </tr>\n",
       "    <tr>\n",
       "      <th>75%</th>\n",
       "      <td>32.000000</td>\n",
       "      <td>1.250000e+05</td>\n",
       "    </tr>\n",
       "    <tr>\n",
       "      <th>max</th>\n",
       "      <td>279.000000</td>\n",
       "      <td>1.111111e+247</td>\n",
       "    </tr>\n",
       "  </tbody>\n",
       "</table>\n",
       "</div>"
      ],
      "text/plain": [
       "                Age      CompTotal\n",
       "count  64461.000000   3.482600e+04\n",
       "mean      30.834111  3.190464e+242\n",
       "std        8.048367            inf\n",
       "min        1.000000   0.000000e+00\n",
       "25%       26.000000   2.000000e+04\n",
       "50%       30.834111   6.300000e+04\n",
       "75%       32.000000   1.250000e+05\n",
       "max      279.000000  1.111111e+247"
      ]
     },
     "metadata": {},
     "output_type": "display_data"
    },
    {
     "data": {
      "text/html": [
       "<div>\n",
       "<style scoped>\n",
       "    .dataframe tbody tr th:only-of-type {\n",
       "        vertical-align: middle;\n",
       "    }\n",
       "\n",
       "    .dataframe tbody tr th {\n",
       "        vertical-align: top;\n",
       "    }\n",
       "\n",
       "    .dataframe thead th {\n",
       "        text-align: right;\n",
       "    }\n",
       "</style>\n",
       "<table border=\"1\" class=\"dataframe\">\n",
       "  <thead>\n",
       "    <tr style=\"text-align: right;\">\n",
       "      <th></th>\n",
       "      <th>Age1stCode</th>\n",
       "      <th>YearsCode</th>\n",
       "      <th>YearsCodePro</th>\n",
       "    </tr>\n",
       "  </thead>\n",
       "  <tbody>\n",
       "    <tr>\n",
       "      <th>count</th>\n",
       "      <td>64461</td>\n",
       "      <td>64461</td>\n",
       "      <td>64461</td>\n",
       "    </tr>\n",
       "    <tr>\n",
       "      <th>unique</th>\n",
       "      <td>63</td>\n",
       "      <td>53</td>\n",
       "      <td>53</td>\n",
       "    </tr>\n",
       "    <tr>\n",
       "      <th>top</th>\n",
       "      <td>15</td>\n",
       "      <td>10</td>\n",
       "      <td>3</td>\n",
       "    </tr>\n",
       "    <tr>\n",
       "      <th>freq</th>\n",
       "      <td>12179</td>\n",
       "      <td>6777</td>\n",
       "      <td>18112</td>\n",
       "    </tr>\n",
       "  </tbody>\n",
       "</table>\n",
       "</div>"
      ],
      "text/plain": [
       "       Age1stCode  YearsCode  YearsCodePro\n",
       "count       64461      64461         64461\n",
       "unique         63         53            53\n",
       "top            15         10             3\n",
       "freq        12179       6777         18112"
      ]
     },
     "metadata": {},
     "output_type": "display_data"
    }
   ],
   "source": [
    "#description of the dataset\n",
    "display(surveyy.describe(),surveyy.describe(include='object'))"
   ]
  },
  {
   "cell_type": "code",
   "execution_count": 10,
   "id": "f9b5ccf9",
   "metadata": {},
   "outputs": [
    {
     "data": {
      "text/plain": [
       "Index(['Age', 'Age1stCode', 'CompTotal', 'YearsCode', 'YearsCodePro'], dtype='object')"
      ]
     },
     "execution_count": 10,
     "metadata": {},
     "output_type": "execute_result"
    }
   ],
   "source": [
    "#columns in the dataset\n",
    "surveyy.columns"
   ]
  },
  {
   "cell_type": "code",
   "execution_count": 11,
   "id": "8454d353",
   "metadata": {},
   "outputs": [
    {
     "data": {
      "text/plain": [
       "(64461, 5)"
      ]
     },
     "execution_count": 11,
     "metadata": {},
     "output_type": "execute_result"
    }
   ],
   "source": [
    "#checking the shape of dataset after filling null values\n",
    "surveyy.shape"
   ]
  },
  {
   "cell_type": "code",
   "execution_count": 12,
   "id": "8f5be0d5",
   "metadata": {},
   "outputs": [
    {
     "name": "stdout",
     "output_type": "stream",
     "text": [
      "\n",
      "Unique Value count of featue (only last 5 unique observations):  Age\n",
      "\n",
      " 26.8    1\n",
      "3.0     1\n",
      "14.7    1\n",
      "26.5    1\n",
      "22.5    1\n",
      "Name: Age, dtype: int64\n",
      "\n",
      "Unique Value count of featue (only last 5 unique observations):  Age1stCode\n",
      "\n",
      " 72    1\n",
      "63    1\n",
      "83    1\n",
      "76    1\n",
      "68    1\n",
      "Name: Age1stCode, dtype: int64\n",
      "\n",
      "Unique Value count of featue (only last 5 unique observations):  CompTotal\n",
      "\n",
      " 153300.0    1\n",
      "156800.0    1\n",
      "56350.0     1\n",
      "4361.0      1\n",
      "91400.0     1\n",
      "Name: CompTotal, dtype: int64\n",
      "\n",
      "Unique Value count of featue (only last 5 unique observations):  YearsCode\n",
      "\n",
      " 46    44\n",
      "50    42\n",
      "48    35\n",
      "47    27\n",
      "49    21\n",
      "Name: YearsCode, dtype: int64\n",
      "\n",
      "Unique Value count of featue (only last 5 unique observations):  YearsCodePro\n",
      "\n",
      " 46    7\n",
      "47    5\n",
      "50    5\n",
      "48    4\n",
      "49    1\n",
      "Name: YearsCodePro, dtype: int64\n"
     ]
    }
   ],
   "source": [
    "#Checking the count of unique values \n",
    "for var in surveyy:\n",
    "    val_count=surveyy[var].value_counts()\n",
    "    print(\"\\nUnique Value count of featue (only last 5 unique observations): \",var)\n",
    "    print(\"\\n\",val_count.tail())"
   ]
  },
  {
   "cell_type": "code",
   "execution_count": 13,
   "id": "eb581d91",
   "metadata": {},
   "outputs": [
    {
     "data": {
      "text/plain": [
       "count     64461\n",
       "unique       53\n",
       "top          10\n",
       "freq       6777\n",
       "Name: YearsCode, dtype: int64"
      ]
     },
     "execution_count": 13,
     "metadata": {},
     "output_type": "execute_result"
    }
   ],
   "source": [
    "#chcekig the description of 'YearsCode' feature.\n",
    "surveyy['YearsCode'].describe()"
   ]
  },
  {
   "cell_type": "code",
   "execution_count": 14,
   "id": "899492c2",
   "metadata": {},
   "outputs": [],
   "source": [
    "#replacing the values\n",
    "surveyy['YearsCode']=surveyy['YearsCode'].replace(\"Less than 1 year\",0)\n",
    "surveyy['YearsCodePro']=surveyy['YearsCodePro'].replace(\"Less than 1 year\",0)\n",
    "surveyy['YearsCode']=surveyy['YearsCode'].replace(\"More than 50 years\",50)\n",
    "surveyy['YearsCodePro']=surveyy['YearsCodePro'].replace(\"More than 50 years\",50)"
   ]
  },
  {
   "cell_type": "code",
   "execution_count": 15,
   "id": "9f643f77",
   "metadata": {},
   "outputs": [],
   "source": [
    "#changing datatype of 'YearsCode'and 'YearsCodePro' into float\n",
    "surveyy['YearsCode']=surveyy['YearsCode'].astype('float')\n",
    "surveyy['YearsCodePro']=surveyy['YearsCodePro'].astype('float')"
   ]
  },
  {
   "cell_type": "code",
   "execution_count": 16,
   "id": "846fece0",
   "metadata": {},
   "outputs": [
    {
     "name": "stdout",
     "output_type": "stream",
     "text": [
      "<class 'pandas.core.frame.DataFrame'>\n",
      "RangeIndex: 64461 entries, 0 to 64460\n",
      "Data columns (total 5 columns):\n",
      " #   Column        Non-Null Count  Dtype  \n",
      "---  ------        --------------  -----  \n",
      " 0   Age           64461 non-null  float64\n",
      " 1   Age1stCode    64461 non-null  object \n",
      " 2   CompTotal     34826 non-null  float64\n",
      " 3   YearsCode     64461 non-null  float64\n",
      " 4   YearsCodePro  64461 non-null  float64\n",
      "dtypes: float64(4), object(1)\n",
      "memory usage: 2.5+ MB\n"
     ]
    }
   ],
   "source": [
    "#info of the dataset\n",
    "surveyy.info()"
   ]
  },
  {
   "cell_type": "code",
   "execution_count": 17,
   "id": "dec8e2b7",
   "metadata": {},
   "outputs": [
    {
     "data": {
      "image/png": "[encoded data removed]",
      "text/plain": [
       "<Figure size 432x288 with 1 Axes>"
      ]
     },
     "metadata": {
      "needs_background": "light"
     },
     "output_type": "display_data"
    }
   ],
   "source": [
    "#outlier boxplot\n",
    "plt.subplot(1,2,2)\n",
    "plt.title('YearsCode Outliers')\n",
    "sns.boxplot(y=surveyy.YearsCode)\n",
    "plt.show()"
   ]
  },
  {
   "cell_type": "code",
   "execution_count": 18,
   "id": "96fbf1b1",
   "metadata": {},
   "outputs": [
    {
     "name": "stdout",
     "output_type": "stream",
     "text": [
      "count    64461.000000\n",
      "mean        12.422023\n",
      "std          9.220678\n",
      "min          0.000000\n",
      "25%          6.000000\n",
      "50%         10.000000\n",
      "75%         16.000000\n",
      "85%         21.000000\n",
      "90%         25.000000\n",
      "100%        50.000000\n",
      "max         50.000000\n",
      "Name: YearsCode, dtype: float64\n"
     ]
    },
    {
     "data": {
      "text/html": [
       "<div>\n",
       "<style scoped>\n",
       "    .dataframe tbody tr th:only-of-type {\n",
       "        vertical-align: middle;\n",
       "    }\n",
       "\n",
       "    .dataframe tbody tr th {\n",
       "        vertical-align: top;\n",
       "    }\n",
       "\n",
       "    .dataframe thead th {\n",
       "        text-align: right;\n",
       "    }\n",
       "</style>\n",
       "<table border=\"1\" class=\"dataframe\">\n",
       "  <thead>\n",
       "    <tr style=\"text-align: right;\">\n",
       "      <th></th>\n",
       "      <th>Age</th>\n",
       "      <th>Age1stCode</th>\n",
       "      <th>CompTotal</th>\n",
       "      <th>YearsCode</th>\n",
       "      <th>YearsCodePro</th>\n",
       "    </tr>\n",
       "  </thead>\n",
       "  <tbody>\n",
       "  </tbody>\n",
       "</table>\n",
       "</div>"
      ],
      "text/plain": [
       "Empty DataFrame\n",
       "Columns: [Age, Age1stCode, CompTotal, YearsCode, YearsCodePro]\n",
       "Index: []"
      ]
     },
     "execution_count": 18,
     "metadata": {},
     "output_type": "execute_result"
    }
   ],
   "source": [
    "#Interquartile Range and Quartile\n",
    "print(surveyy.YearsCode.describe(percentiles = [0.25,0.50,0.75,0.85,0.90,1]))\n",
    "\n",
    "percentile25 = surveyy['YearsCode'].quantile(0.25)\n",
    "percentile75 = surveyy['YearsCode'].quantile(0.75)\n",
    "iqr=percentile75-percentile25\n",
    "\n",
    "upper_limit = percentile75 + 1.5 * iqr\n",
    "lower_limit = percentile25 - 1.5 * iqr\n",
    "\n",
    "surveyy[surveyy['YearsCode'] > upper_limit]\n",
    "surveyy[surveyy['YearsCode'] < lower_limit]"
   ]
  },
  {
   "cell_type": "code",
   "execution_count": 19,
   "id": "fa7e7a0d",
   "metadata": {},
   "outputs": [
    {
     "data": {
      "text/plain": [
       "(60643, 5)"
      ]
     },
     "execution_count": 19,
     "metadata": {},
     "output_type": "execute_result"
    }
   ],
   "source": [
    "#checking the shape of dataset values which lies within the upper limit.\n",
    "new_df = surveyy[surveyy['YearsCode'] <upper_limit]\n",
    "new_df.shape"
   ]
  },
  {
   "cell_type": "code",
   "execution_count": 20,
   "id": "e7b58701",
   "metadata": {},
   "outputs": [
    {
     "data": {
      "image/png": "[encoded data removed]",
      "text/plain": [
       "<Figure size 432x288 with 1 Axes>"
      ]
     },
     "metadata": {
      "needs_background": "light"
     },
     "output_type": "display_data"
    }
   ],
   "source": [
    "#outlier boxplot of new_df\n",
    "plt.subplot(2,2,4)\n",
    "sns.boxplot(x=new_df['YearsCode'])\n",
    "plt.show()"
   ]
  },
  {
   "cell_type": "code",
   "execution_count": 21,
   "id": "05902729",
   "metadata": {},
   "outputs": [
    {
     "data": {
      "image/png": "[encoded data removed]",
      "text/plain": [
       "<Figure size 432x288 with 1 Axes>"
      ]
     },
     "metadata": {
      "needs_background": "light"
     },
     "output_type": "display_data"
    }
   ],
   "source": [
    "#boxplot\n",
    "surveyy['YearsCode'] = np.where(\n",
    "   surveyy['YearsCode'] > upper_limit,\n",
    "    upper_limit,\n",
    "    np.where(\n",
    "        surveyy['YearsCode'] < lower_limit,\n",
    "        lower_limit,\n",
    "       surveyy['YearsCode']\n",
    "    )\n",
    ")\n",
    "\n",
    "plt.subplot(2,2,4)\n",
    "sns.boxplot(x=surveyy['YearsCode'])\n",
    "plt.show()"
   ]
  },
  {
   "cell_type": "code",
   "execution_count": 22,
   "id": "f702b041",
   "metadata": {},
   "outputs": [
    {
     "data": {
      "text/plain": [
       "(64461, 5)"
      ]
     },
     "execution_count": 22,
     "metadata": {},
     "output_type": "execute_result"
    }
   ],
   "source": [
    "surveyy.shape"
   ]
  },
  {
   "cell_type": "code",
   "execution_count": 23,
   "id": "f0a2db43",
   "metadata": {},
   "outputs": [],
   "source": [
    "#Outlier Removal in Numeric Columns using Z-Score technique \n",
    "for col in surveyy:\n",
    "    if (surveyy.dtypes[col]!=object):\n",
    "        percentile25 = surveyy[col].quantile(0.25)\n",
    "        percentile75 = surveyy[col].quantile(0.75)\n",
    "        iqr=percentile75-percentile25\n",
    "\n",
    "        upper_limit = percentile75 + 1.5 * iqr\n",
    "        lower_limit = percentile25 - 1.5 * iqr\n",
    "\n",
    "        surveyy[col] = np.where(surveyy[col] > upper_limit,upper_limit,np.where(surveyy[col] < lower_limit,lower_limit, surveyy[col]))"
   ]
  },
  {
   "cell_type": "code",
   "execution_count": 24,
   "id": "15a203bb",
   "metadata": {},
   "outputs": [
    {
     "data": {
      "text/plain": [
       "(64461, 5)"
      ]
     },
     "execution_count": 24,
     "metadata": {},
     "output_type": "execute_result"
    }
   ],
   "source": [
    "surveyy.shape"
   ]
  },
  {
   "cell_type": "code",
   "execution_count": 25,
   "id": "20732fb6",
   "metadata": {},
   "outputs": [
    {
     "data": {
      "text/plain": [
       "(60643, 5)"
      ]
     },
     "execution_count": 25,
     "metadata": {},
     "output_type": "execute_result"
    }
   ],
   "source": [
    "new_df.shape"
   ]
  },
  {
   "cell_type": "code",
   "execution_count": 26,
   "id": "c35515d3",
   "metadata": {},
   "outputs": [],
   "source": [
    "#Outlier Removal in Numeric Columns using Z-Score technique \n",
    "for col in surveyy:\n",
    "    if (surveyy.dtypes[col]!=object):\n",
    "        percentile25 = surveyy[col].quantile(0.25)\n",
    "        percentile75 = surveyy[col].quantile(0.75)\n",
    "        iqr=percentile75-percentile25\n",
    "\n",
    "        upper_limit = percentile75 + 1.5 * iqr\n",
    "        lower_limit = percentile25 - 1.5 * iqr\n",
    "\n",
    "        surveyy[col] = np.where(surveyy[col] > upper_limit,upper_limit,np.where(surveyy[col] < lower_limit,lower_limit, surveyy[col]))\n"
   ]
  },
  {
   "cell_type": "code",
   "execution_count": 27,
   "id": "88caade2",
   "metadata": {},
   "outputs": [
    {
     "data": {
      "text/plain": [
       "(64461, 5)"
      ]
     },
     "execution_count": 27,
     "metadata": {},
     "output_type": "execute_result"
    }
   ],
   "source": [
    "surveyy.shape"
   ]
  },
  {
   "cell_type": "code",
   "execution_count": 28,
   "id": "d4c774d5",
   "metadata": {},
   "outputs": [
    {
     "name": "stdout",
     "output_type": "stream",
     "text": [
      "Index(['Age1stCode'], dtype='object')\n"
     ]
    }
   ],
   "source": [
    "\n",
    "from sklearn.preprocessing import LabelEncoder\n",
    "# creating instance of labelencoder\n",
    "le = LabelEncoder()\n",
    "\n",
    "objList = surveyy.select_dtypes(include = \"object\").columns\n",
    "print (objList)"
   ]
  },
  {
   "cell_type": "code",
   "execution_count": 29,
   "id": "11916bd0",
   "metadata": {},
   "outputs": [
    {
     "name": "stdout",
     "output_type": "stream",
     "text": [
      "<class 'pandas.core.frame.DataFrame'>\n",
      "RangeIndex: 64461 entries, 0 to 64460\n",
      "Data columns (total 5 columns):\n",
      " #   Column        Non-Null Count  Dtype  \n",
      "---  ------        --------------  -----  \n",
      " 0   Age           64461 non-null  float64\n",
      " 1   Age1stCode    64461 non-null  int32  \n",
      " 2   CompTotal     34826 non-null  float64\n",
      " 3   YearsCode     64461 non-null  float64\n",
      " 4   YearsCodePro  64461 non-null  float64\n",
      "dtypes: float64(4), int32(1)\n",
      "memory usage: 2.2 MB\n",
      "None\n"
     ]
    }
   ],
   "source": [
    "for feat in objList:\n",
    "    surveyy[feat] = le.fit_transform(surveyy[feat].astype(str))\n",
    "\n",
    "print (surveyy.info())"
   ]
  },
  {
   "cell_type": "code",
   "execution_count": 30,
   "id": "9d9917cd",
   "metadata": {},
   "outputs": [
    {
     "data": {
      "text/html": [
       "<div>\n",
       "<style scoped>\n",
       "    .dataframe tbody tr th:only-of-type {\n",
       "        vertical-align: middle;\n",
       "    }\n",
       "\n",
       "    .dataframe tbody tr th {\n",
       "        vertical-align: top;\n",
       "    }\n",
       "\n",
       "    .dataframe thead th {\n",
       "        text-align: right;\n",
       "    }\n",
       "</style>\n",
       "<table border=\"1\" class=\"dataframe\">\n",
       "  <thead>\n",
       "    <tr style=\"text-align: right;\">\n",
       "      <th></th>\n",
       "      <th>Age</th>\n",
       "      <th>Age1stCode</th>\n",
       "      <th>CompTotal</th>\n",
       "      <th>YearsCode</th>\n",
       "      <th>YearsCodePro</th>\n",
       "    </tr>\n",
       "  </thead>\n",
       "  <tbody>\n",
       "    <tr>\n",
       "      <th>0</th>\n",
       "      <td>30.834111</td>\n",
       "      <td>3</td>\n",
       "      <td>NaN</td>\n",
       "      <td>31.0</td>\n",
       "      <td>18.0</td>\n",
       "    </tr>\n",
       "    <tr>\n",
       "      <th>1</th>\n",
       "      <td>30.834111</td>\n",
       "      <td>9</td>\n",
       "      <td>NaN</td>\n",
       "      <td>7.0</td>\n",
       "      <td>4.0</td>\n",
       "    </tr>\n",
       "    <tr>\n",
       "      <th>2</th>\n",
       "      <td>30.834111</td>\n",
       "      <td>5</td>\n",
       "      <td>NaN</td>\n",
       "      <td>4.0</td>\n",
       "      <td>3.0</td>\n",
       "    </tr>\n",
       "    <tr>\n",
       "      <th>3</th>\n",
       "      <td>25.000000</td>\n",
       "      <td>8</td>\n",
       "      <td>NaN</td>\n",
       "      <td>7.0</td>\n",
       "      <td>4.0</td>\n",
       "    </tr>\n",
       "    <tr>\n",
       "      <th>4</th>\n",
       "      <td>31.000000</td>\n",
       "      <td>6</td>\n",
       "      <td>NaN</td>\n",
       "      <td>15.0</td>\n",
       "      <td>8.0</td>\n",
       "    </tr>\n",
       "  </tbody>\n",
       "</table>\n",
       "</div>"
      ],
      "text/plain": [
       "         Age  Age1stCode  CompTotal  YearsCode  YearsCodePro\n",
       "0  30.834111           3        NaN       31.0          18.0\n",
       "1  30.834111           9        NaN        7.0           4.0\n",
       "2  30.834111           5        NaN        4.0           3.0\n",
       "3  25.000000           8        NaN        7.0           4.0\n",
       "4  31.000000           6        NaN       15.0           8.0"
      ]
     },
     "execution_count": 30,
     "metadata": {},
     "output_type": "execute_result"
    }
   ],
   "source": [
    "surveyy.head()"
   ]
  },
  {
   "cell_type": "code",
   "execution_count": 31,
   "id": "fbd1dce9",
   "metadata": {},
   "outputs": [
    {
     "data": {
      "text/html": [
       "<div>\n",
       "<style scoped>\n",
       "    .dataframe tbody tr th:only-of-type {\n",
       "        vertical-align: middle;\n",
       "    }\n",
       "\n",
       "    .dataframe tbody tr th {\n",
       "        vertical-align: top;\n",
       "    }\n",
       "\n",
       "    .dataframe thead th {\n",
       "        text-align: right;\n",
       "    }\n",
       "</style>\n",
       "<table border=\"1\" class=\"dataframe\">\n",
       "  <thead>\n",
       "    <tr style=\"text-align: right;\">\n",
       "      <th></th>\n",
       "      <th>Age</th>\n",
       "      <th>Age1stCode</th>\n",
       "      <th>CompTotal</th>\n",
       "      <th>YearsCode</th>\n",
       "      <th>YearsCodePro</th>\n",
       "    </tr>\n",
       "  </thead>\n",
       "  <tbody>\n",
       "    <tr>\n",
       "      <th>Age</th>\n",
       "      <td>1.000000</td>\n",
       "      <td>0.112214</td>\n",
       "      <td>0.100527</td>\n",
       "      <td>0.663536</td>\n",
       "      <td>0.640898</td>\n",
       "    </tr>\n",
       "    <tr>\n",
       "      <th>Age1stCode</th>\n",
       "      <td>0.112214</td>\n",
       "      <td>1.000000</td>\n",
       "      <td>0.040316</td>\n",
       "      <td>0.132541</td>\n",
       "      <td>0.112139</td>\n",
       "    </tr>\n",
       "    <tr>\n",
       "      <th>CompTotal</th>\n",
       "      <td>0.100527</td>\n",
       "      <td>0.040316</td>\n",
       "      <td>1.000000</td>\n",
       "      <td>0.107399</td>\n",
       "      <td>0.133049</td>\n",
       "    </tr>\n",
       "    <tr>\n",
       "      <th>YearsCode</th>\n",
       "      <td>0.663536</td>\n",
       "      <td>0.132541</td>\n",
       "      <td>0.107399</td>\n",
       "      <td>1.000000</td>\n",
       "      <td>0.828781</td>\n",
       "    </tr>\n",
       "    <tr>\n",
       "      <th>YearsCodePro</th>\n",
       "      <td>0.640898</td>\n",
       "      <td>0.112139</td>\n",
       "      <td>0.133049</td>\n",
       "      <td>0.828781</td>\n",
       "      <td>1.000000</td>\n",
       "    </tr>\n",
       "  </tbody>\n",
       "</table>\n",
       "</div>"
      ],
      "text/plain": [
       "                   Age  Age1stCode  CompTotal  YearsCode  YearsCodePro\n",
       "Age           1.000000    0.112214   0.100527   0.663536      0.640898\n",
       "Age1stCode    0.112214    1.000000   0.040316   0.132541      0.112139\n",
       "CompTotal     0.100527    0.040316   1.000000   0.107399      0.133049\n",
       "YearsCode     0.663536    0.132541   0.107399   1.000000      0.828781\n",
       "YearsCodePro  0.640898    0.112139   0.133049   0.828781      1.000000"
      ]
     },
     "execution_count": 31,
     "metadata": {},
     "output_type": "execute_result"
    }
   ],
   "source": [
    "#correaltion of the dataset\n",
    "surveyy.corr()"
   ]
  },
  {
   "cell_type": "code",
   "execution_count": 32,
   "id": "615d28aa",
   "metadata": {},
   "outputs": [
    {
     "data": {
      "image/png": "[encoded data removed]",
      "text/plain": [
       "<Figure size 864x576 with 2 Axes>"
      ]
     },
     "metadata": {},
     "output_type": "display_data"
    }
   ],
   "source": [
    "#ploting the heatmap for correlation\n",
    "sns.set(rc = {'figure.figsize':(12,8)})\n",
    "ax = sns.heatmap(surveyy.corr(), annot=True)"
   ]
  },
  {
   "cell_type": "markdown",
   "id": "901ce302",
   "metadata": {},
   "source": [
    "heatmap represents that the 'Age' influenes 0.66 on 'YearsCode'"
   ]
  },
  {
   "cell_type": "code",
   "execution_count": 33,
   "id": "2ace8b1b",
   "metadata": {},
   "outputs": [
    {
     "data": {
      "text/plain": [
       "Age                 0\n",
       "Age1stCode          0\n",
       "CompTotal       29635\n",
       "YearsCode           0\n",
       "YearsCodePro        0\n",
       "dtype: int64"
      ]
     },
     "execution_count": 33,
     "metadata": {},
     "output_type": "execute_result"
    }
   ],
   "source": [
    "#checking the count of na values of the dataset\n",
    "surveyy.isna().sum()"
   ]
  },
  {
   "cell_type": "code",
   "execution_count": 34,
   "id": "15473d80",
   "metadata": {},
   "outputs": [
    {
     "data": {
      "text/plain": [
       "count     34826.000000\n",
       "mean      89921.598604\n",
       "std       88402.017010\n",
       "min           0.000000\n",
       "25%       20000.000000\n",
       "50%       63000.000000\n",
       "75%      125000.000000\n",
       "max      282500.000000\n",
       "Name: CompTotal, dtype: float64"
      ]
     },
     "execution_count": 34,
     "metadata": {},
     "output_type": "execute_result"
    }
   ],
   "source": [
    "#description of 'CompTotal' feature.\n",
    "surveyy['CompTotal'].describe()"
   ]
  },
  {
   "cell_type": "code",
   "execution_count": 35,
   "id": "154b769b",
   "metadata": {},
   "outputs": [],
   "source": [
    "#filling the na values of 'CompTotal' by its mean , since this is numerical feature.\n",
    "surveyy['CompTotal']=surveyy['CompTotal'].fillna(89921.598604)"
   ]
  },
  {
   "cell_type": "code",
   "execution_count": 36,
   "id": "e31e7d79",
   "metadata": {},
   "outputs": [
    {
     "data": {
      "text/plain": [
       "Age             0\n",
       "Age1stCode      0\n",
       "CompTotal       0\n",
       "YearsCode       0\n",
       "YearsCodePro    0\n",
       "dtype: int64"
      ]
     },
     "execution_count": 36,
     "metadata": {},
     "output_type": "execute_result"
    }
   ],
   "source": [
    "#after filling na values, checking the counts o na values in the dataset\n",
    "surveyy.isna().sum()"
   ]
  },
  {
   "cell_type": "code",
   "execution_count": 37,
   "id": "ea6f123e",
   "metadata": {},
   "outputs": [
    {
     "name": "stdout",
     "output_type": "stream",
     "text": [
      "<class 'pandas.core.frame.DataFrame'>\n",
      "RangeIndex: 64461 entries, 0 to 64460\n",
      "Data columns (total 5 columns):\n",
      " #   Column        Non-Null Count  Dtype  \n",
      "---  ------        --------------  -----  \n",
      " 0   Age           64461 non-null  float64\n",
      " 1   Age1stCode    64461 non-null  int32  \n",
      " 2   CompTotal     64461 non-null  float64\n",
      " 3   YearsCode     64461 non-null  float64\n",
      " 4   YearsCodePro  64461 non-null  float64\n",
      "dtypes: float64(4), int32(1)\n",
      "memory usage: 2.2 MB\n"
     ]
    }
   ],
   "source": [
    "#checking the information of the dataset\n",
    "surveyy.info()"
   ]
  },
  {
   "cell_type": "code",
   "execution_count": 38,
   "id": "ab98eb7d",
   "metadata": {},
   "outputs": [],
   "source": [
    "surveyy['CompTotal']=surveyy['CompTotal'].astype('int32')\n",
    "surveyy['Age']=surveyy['Age'].astype('int32')\n",
    "surveyy['Age1stCode']=surveyy['Age1stCode'].astype('int32')\n",
    "surveyy['YearsCode']=surveyy['YearsCode'].astype('int32')\n",
    "surveyy['YearsCodePro']=surveyy['YearsCodePro'].astype('int32')"
   ]
  },
  {
   "cell_type": "code",
   "execution_count": 39,
   "id": "52916424",
   "metadata": {},
   "outputs": [
    {
     "data": {
      "text/html": [
       "<div>\n",
       "<style scoped>\n",
       "    .dataframe tbody tr th:only-of-type {\n",
       "        vertical-align: middle;\n",
       "    }\n",
       "\n",
       "    .dataframe tbody tr th {\n",
       "        vertical-align: top;\n",
       "    }\n",
       "\n",
       "    .dataframe thead th {\n",
       "        text-align: right;\n",
       "    }\n",
       "</style>\n",
       "<table border=\"1\" class=\"dataframe\">\n",
       "  <thead>\n",
       "    <tr style=\"text-align: right;\">\n",
       "      <th></th>\n",
       "      <th>Age</th>\n",
       "      <th>Age1stCode</th>\n",
       "      <th>CompTotal</th>\n",
       "      <th>YearsCode</th>\n",
       "      <th>YearsCodePro</th>\n",
       "    </tr>\n",
       "  </thead>\n",
       "  <tbody>\n",
       "    <tr>\n",
       "      <th>64451</th>\n",
       "      <td>0.541667</td>\n",
       "      <td>0.145161</td>\n",
       "      <td>0.318304</td>\n",
       "      <td>0.064516</td>\n",
       "      <td>0.166667</td>\n",
       "    </tr>\n",
       "    <tr>\n",
       "      <th>64452</th>\n",
       "      <td>0.541667</td>\n",
       "      <td>0.080645</td>\n",
       "      <td>0.318304</td>\n",
       "      <td>0.322581</td>\n",
       "      <td>0.166667</td>\n",
       "    </tr>\n",
       "    <tr>\n",
       "      <th>64453</th>\n",
       "      <td>0.541667</td>\n",
       "      <td>0.645161</td>\n",
       "      <td>0.318304</td>\n",
       "      <td>0.096774</td>\n",
       "      <td>0.166667</td>\n",
       "    </tr>\n",
       "    <tr>\n",
       "      <th>64454</th>\n",
       "      <td>0.541667</td>\n",
       "      <td>0.177419</td>\n",
       "      <td>0.318304</td>\n",
       "      <td>0.096774</td>\n",
       "      <td>0.166667</td>\n",
       "    </tr>\n",
       "    <tr>\n",
       "      <th>64455</th>\n",
       "      <td>0.541667</td>\n",
       "      <td>0.080645</td>\n",
       "      <td>0.318304</td>\n",
       "      <td>0.322581</td>\n",
       "      <td>0.166667</td>\n",
       "    </tr>\n",
       "    <tr>\n",
       "      <th>64456</th>\n",
       "      <td>0.541667</td>\n",
       "      <td>0.096774</td>\n",
       "      <td>0.318304</td>\n",
       "      <td>0.322581</td>\n",
       "      <td>0.000000</td>\n",
       "    </tr>\n",
       "    <tr>\n",
       "      <th>64457</th>\n",
       "      <td>0.541667</td>\n",
       "      <td>0.080645</td>\n",
       "      <td>0.318304</td>\n",
       "      <td>0.322581</td>\n",
       "      <td>0.166667</td>\n",
       "    </tr>\n",
       "    <tr>\n",
       "      <th>64458</th>\n",
       "      <td>0.541667</td>\n",
       "      <td>0.080645</td>\n",
       "      <td>0.318304</td>\n",
       "      <td>0.322581</td>\n",
       "      <td>0.166667</td>\n",
       "    </tr>\n",
       "    <tr>\n",
       "      <th>64459</th>\n",
       "      <td>0.541667</td>\n",
       "      <td>0.080645</td>\n",
       "      <td>0.318304</td>\n",
       "      <td>0.322581</td>\n",
       "      <td>0.166667</td>\n",
       "    </tr>\n",
       "    <tr>\n",
       "      <th>64460</th>\n",
       "      <td>0.541667</td>\n",
       "      <td>0.080645</td>\n",
       "      <td>0.318304</td>\n",
       "      <td>0.322581</td>\n",
       "      <td>0.166667</td>\n",
       "    </tr>\n",
       "  </tbody>\n",
       "</table>\n",
       "</div>"
      ],
      "text/plain": [
       "            Age  Age1stCode  CompTotal  YearsCode  YearsCodePro\n",
       "64451  0.541667    0.145161   0.318304   0.064516      0.166667\n",
       "64452  0.541667    0.080645   0.318304   0.322581      0.166667\n",
       "64453  0.541667    0.645161   0.318304   0.096774      0.166667\n",
       "64454  0.541667    0.177419   0.318304   0.096774      0.166667\n",
       "64455  0.541667    0.080645   0.318304   0.322581      0.166667\n",
       "64456  0.541667    0.096774   0.318304   0.322581      0.000000\n",
       "64457  0.541667    0.080645   0.318304   0.322581      0.166667\n",
       "64458  0.541667    0.080645   0.318304   0.322581      0.166667\n",
       "64459  0.541667    0.080645   0.318304   0.322581      0.166667\n",
       "64460  0.541667    0.080645   0.318304   0.322581      0.166667"
      ]
     },
     "execution_count": 39,
     "metadata": {},
     "output_type": "execute_result"
    }
   ],
   "source": [
    "# Normalization function \n",
    "def norm_func(i):\n",
    "    x = (i-i.min())/(i.max()-i.min())\n",
    "    return (x)\n",
    "\n",
    "df_norm = norm_func(surveyy.iloc[:,:])\n",
    "df_norm.tail(10)"
   ]
  },
  {
   "cell_type": "code",
   "execution_count": 40,
   "id": "0543c57c",
   "metadata": {},
   "outputs": [
    {
     "data": {
      "text/html": [
       "<div>\n",
       "<style scoped>\n",
       "    .dataframe tbody tr th:only-of-type {\n",
       "        vertical-align: middle;\n",
       "    }\n",
       "\n",
       "    .dataframe tbody tr th {\n",
       "        vertical-align: top;\n",
       "    }\n",
       "\n",
       "    .dataframe thead th {\n",
       "        text-align: right;\n",
       "    }\n",
       "</style>\n",
       "<table border=\"1\" class=\"dataframe\">\n",
       "  <thead>\n",
       "    <tr style=\"text-align: right;\">\n",
       "      <th></th>\n",
       "      <th>Age</th>\n",
       "      <th>Age1stCode</th>\n",
       "      <th>CompTotal</th>\n",
       "      <th>YearsCodePro</th>\n",
       "    </tr>\n",
       "  </thead>\n",
       "  <tbody>\n",
       "    <tr>\n",
       "      <th>0</th>\n",
       "      <td>0.541667</td>\n",
       "      <td>0.048387</td>\n",
       "      <td>0.318304</td>\n",
       "      <td>1.000000</td>\n",
       "    </tr>\n",
       "    <tr>\n",
       "      <th>1</th>\n",
       "      <td>0.541667</td>\n",
       "      <td>0.145161</td>\n",
       "      <td>0.318304</td>\n",
       "      <td>0.222222</td>\n",
       "    </tr>\n",
       "    <tr>\n",
       "      <th>2</th>\n",
       "      <td>0.541667</td>\n",
       "      <td>0.080645</td>\n",
       "      <td>0.318304</td>\n",
       "      <td>0.166667</td>\n",
       "    </tr>\n",
       "    <tr>\n",
       "      <th>3</th>\n",
       "      <td>0.333333</td>\n",
       "      <td>0.129032</td>\n",
       "      <td>0.318304</td>\n",
       "      <td>0.222222</td>\n",
       "    </tr>\n",
       "    <tr>\n",
       "      <th>4</th>\n",
       "      <td>0.583333</td>\n",
       "      <td>0.096774</td>\n",
       "      <td>0.318304</td>\n",
       "      <td>0.444444</td>\n",
       "    </tr>\n",
       "    <tr>\n",
       "      <th>...</th>\n",
       "      <td>...</td>\n",
       "      <td>...</td>\n",
       "      <td>...</td>\n",
       "      <td>...</td>\n",
       "    </tr>\n",
       "    <tr>\n",
       "      <th>64456</th>\n",
       "      <td>0.541667</td>\n",
       "      <td>0.096774</td>\n",
       "      <td>0.318304</td>\n",
       "      <td>0.000000</td>\n",
       "    </tr>\n",
       "    <tr>\n",
       "      <th>64457</th>\n",
       "      <td>0.541667</td>\n",
       "      <td>0.080645</td>\n",
       "      <td>0.318304</td>\n",
       "      <td>0.166667</td>\n",
       "    </tr>\n",
       "    <tr>\n",
       "      <th>64458</th>\n",
       "      <td>0.541667</td>\n",
       "      <td>0.080645</td>\n",
       "      <td>0.318304</td>\n",
       "      <td>0.166667</td>\n",
       "    </tr>\n",
       "    <tr>\n",
       "      <th>64459</th>\n",
       "      <td>0.541667</td>\n",
       "      <td>0.080645</td>\n",
       "      <td>0.318304</td>\n",
       "      <td>0.166667</td>\n",
       "    </tr>\n",
       "    <tr>\n",
       "      <th>64460</th>\n",
       "      <td>0.541667</td>\n",
       "      <td>0.080645</td>\n",
       "      <td>0.318304</td>\n",
       "      <td>0.166667</td>\n",
       "    </tr>\n",
       "  </tbody>\n",
       "</table>\n",
       "<p>64461 rows × 4 columns</p>\n",
       "</div>"
      ],
      "text/plain": [
       "            Age  Age1stCode  CompTotal  YearsCodePro\n",
       "0      0.541667    0.048387   0.318304      1.000000\n",
       "1      0.541667    0.145161   0.318304      0.222222\n",
       "2      0.541667    0.080645   0.318304      0.166667\n",
       "3      0.333333    0.129032   0.318304      0.222222\n",
       "4      0.583333    0.096774   0.318304      0.444444\n",
       "...         ...         ...        ...           ...\n",
       "64456  0.541667    0.096774   0.318304      0.000000\n",
       "64457  0.541667    0.080645   0.318304      0.166667\n",
       "64458  0.541667    0.080645   0.318304      0.166667\n",
       "64459  0.541667    0.080645   0.318304      0.166667\n",
       "64460  0.541667    0.080645   0.318304      0.166667\n",
       "\n",
       "[64461 rows x 4 columns]"
      ]
     },
     "execution_count": 40,
     "metadata": {},
     "output_type": "execute_result"
    }
   ],
   "source": [
    "#defining x and y\n",
    "x = df_norm.drop(['YearsCode'], axis=1)\n",
    "y = df_norm['YearsCode']\n",
    "\n",
    "x"
   ]
  },
  {
   "cell_type": "markdown",
   "id": "aced66fb",
   "metadata": {},
   "source": [
    "## Linear Regression"
   ]
  },
  {
   "cell_type": "code",
   "execution_count": 41,
   "id": "08584044",
   "metadata": {},
   "outputs": [
    {
     "data": {
      "application/javascript": [
       "\n",
       "        if (window._pyforest_update_imports_cell) { window._pyforest_update_imports_cell('from sklearn.model_selection import train_test_split'); }\n",
       "    "
      ],
      "text/plain": [
       "<IPython.core.display.Javascript object>"
      ]
     },
     "metadata": {},
     "output_type": "display_data"
    }
   ],
   "source": [
    "x_train, x_test, y_train, y_test = train_test_split(x, y, test_size=0.2, random_state=0)\n"
   ]
  },
  {
   "cell_type": "code",
   "execution_count": 42,
   "id": "c537f1f0",
   "metadata": {},
   "outputs": [
    {
     "data": {
      "text/plain": [
       "LinearRegression()"
      ]
     },
     "execution_count": 42,
     "metadata": {},
     "output_type": "execute_result"
    }
   ],
   "source": [
    "from sklearn.linear_model import LinearRegression\n",
    "regressor = LinearRegression()\n",
    "regressor.fit(x_train, y_train)"
   ]
  },
  {
   "cell_type": "code",
   "execution_count": 43,
   "id": "5368cf25",
   "metadata": {},
   "outputs": [
    {
     "name": "stdout",
     "output_type": "stream",
     "text": [
      "0.044836561343237824\n"
     ]
    }
   ],
   "source": [
    "print(regressor.intercept_)"
   ]
  },
  {
   "cell_type": "code",
   "execution_count": 44,
   "id": "3e81552e",
   "metadata": {},
   "outputs": [
    {
     "name": "stdout",
     "output_type": "stream",
     "text": [
      "[ 0.24183022  0.03610822 -0.00898055  0.60064966]\n"
     ]
    }
   ],
   "source": [
    "print(regressor.coef_)"
   ]
  },
  {
   "cell_type": "code",
   "execution_count": 45,
   "id": "2ad2b8a8",
   "metadata": {},
   "outputs": [
    {
     "data": {
      "text/html": [
       "<div>\n",
       "<style scoped>\n",
       "    .dataframe tbody tr th:only-of-type {\n",
       "        vertical-align: middle;\n",
       "    }\n",
       "\n",
       "    .dataframe tbody tr th {\n",
       "        vertical-align: top;\n",
       "    }\n",
       "\n",
       "    .dataframe thead th {\n",
       "        text-align: right;\n",
       "    }\n",
       "</style>\n",
       "<table border=\"1\" class=\"dataframe\">\n",
       "  <thead>\n",
       "    <tr style=\"text-align: right;\">\n",
       "      <th></th>\n",
       "      <th>Actual</th>\n",
       "      <th>Predicted</th>\n",
       "    </tr>\n",
       "  </thead>\n",
       "  <tbody>\n",
       "    <tr>\n",
       "      <th>62842</th>\n",
       "      <td>0.322581</td>\n",
       "      <td>0.275990</td>\n",
       "    </tr>\n",
       "    <tr>\n",
       "      <th>17509</th>\n",
       "      <td>0.096774</td>\n",
       "      <td>0.077095</td>\n",
       "    </tr>\n",
       "    <tr>\n",
       "      <th>17659</th>\n",
       "      <td>0.580645</td>\n",
       "      <td>0.788586</td>\n",
       "    </tr>\n",
       "    <tr>\n",
       "      <th>35830</th>\n",
       "      <td>0.322581</td>\n",
       "      <td>0.251130</td>\n",
       "    </tr>\n",
       "    <tr>\n",
       "      <th>3347</th>\n",
       "      <td>0.129032</td>\n",
       "      <td>0.242038</td>\n",
       "    </tr>\n",
       "    <tr>\n",
       "      <th>...</th>\n",
       "      <td>...</td>\n",
       "      <td>...</td>\n",
       "    </tr>\n",
       "    <tr>\n",
       "      <th>28010</th>\n",
       "      <td>0.774194</td>\n",
       "      <td>0.880164</td>\n",
       "    </tr>\n",
       "    <tr>\n",
       "      <th>23634</th>\n",
       "      <td>0.483871</td>\n",
       "      <td>0.688302</td>\n",
       "    </tr>\n",
       "    <tr>\n",
       "      <th>39835</th>\n",
       "      <td>0.645161</td>\n",
       "      <td>0.671919</td>\n",
       "    </tr>\n",
       "    <tr>\n",
       "      <th>19495</th>\n",
       "      <td>0.161290</td>\n",
       "      <td>0.270801</td>\n",
       "    </tr>\n",
       "    <tr>\n",
       "      <th>54707</th>\n",
       "      <td>0.645161</td>\n",
       "      <td>0.506664</td>\n",
       "    </tr>\n",
       "  </tbody>\n",
       "</table>\n",
       "<p>12893 rows × 2 columns</p>\n",
       "</div>"
      ],
      "text/plain": [
       "         Actual  Predicted\n",
       "62842  0.322581   0.275990\n",
       "17509  0.096774   0.077095\n",
       "17659  0.580645   0.788586\n",
       "35830  0.322581   0.251130\n",
       "3347   0.129032   0.242038\n",
       "...         ...        ...\n",
       "28010  0.774194   0.880164\n",
       "23634  0.483871   0.688302\n",
       "39835  0.645161   0.671919\n",
       "19495  0.161290   0.270801\n",
       "54707  0.645161   0.506664\n",
       "\n",
       "[12893 rows x 2 columns]"
      ]
     },
     "execution_count": 45,
     "metadata": {},
     "output_type": "execute_result"
    }
   ],
   "source": [
    "y_pred = regressor.predict(x_test)\n",
    "\n",
    "df = pd.DataFrame({'Actual': y_test, 'Predicted': y_pred})\n",
    "df"
   ]
  },
  {
   "cell_type": "code",
   "execution_count": 46,
   "id": "17cfd74e",
   "metadata": {},
   "outputs": [
    {
     "data": {
      "application/javascript": [
       "\n",
       "        if (window._pyforest_update_imports_cell) { window._pyforest_update_imports_cell('from sklearn import metrics\\nfrom sklearn.model_selection import train_test_split'); }\n",
       "    "
      ],
      "text/plain": [
       "<IPython.core.display.Javascript object>"
      ]
     },
     "metadata": {},
     "output_type": "display_data"
    },
    {
     "name": "stdout",
     "output_type": "stream",
     "text": [
      "Mean Absolute Error: 0.10128215258373588\n"
     ]
    },
    {
     "data": {
      "application/javascript": [
       "\n",
       "        if (window._pyforest_update_imports_cell) { window._pyforest_update_imports_cell('from sklearn import metrics\\nfrom sklearn.model_selection import train_test_split'); }\n",
       "    "
      ],
      "text/plain": [
       "<IPython.core.display.Javascript object>"
      ]
     },
     "metadata": {},
     "output_type": "display_data"
    },
    {
     "name": "stdout",
     "output_type": "stream",
     "text": [
      "Mean Squared Error: 0.018798350574037528\n"
     ]
    },
    {
     "data": {
      "application/javascript": [
       "\n",
       "        if (window._pyforest_update_imports_cell) { window._pyforest_update_imports_cell('from sklearn import metrics\\nfrom sklearn.model_selection import train_test_split'); }\n",
       "    "
      ],
      "text/plain": [
       "<IPython.core.display.Javascript object>"
      ]
     },
     "metadata": {},
     "output_type": "display_data"
    },
    {
     "name": "stdout",
     "output_type": "stream",
     "text": [
      "Root Mean Squared Error: 0.1371070770384867\n"
     ]
    }
   ],
   "source": [
    "print('Mean Absolute Error:', metrics.mean_absolute_error(y_test, y_pred))\n",
    "print('Mean Squared Error:', metrics.mean_squared_error(y_test, y_pred))\n",
    "print('Root Mean Squared Error:', np.sqrt(metrics.mean_squared_error(y_test, y_pred)))"
   ]
  },
  {
   "cell_type": "code",
   "execution_count": 47,
   "id": "4a58fccb",
   "metadata": {},
   "outputs": [
    {
     "data": {
      "application/javascript": [
       "\n",
       "        if (window._pyforest_update_imports_cell) { window._pyforest_update_imports_cell('from sklearn import metrics\\nfrom sklearn.model_selection import train_test_split'); }\n",
       "    "
      ],
      "text/plain": [
       "<IPython.core.display.Javascript object>"
      ]
     },
     "metadata": {},
     "output_type": "display_data"
    },
    {
     "name": "stdout",
     "output_type": "stream",
     "text": [
      "R2 score = 0.72\n",
      "\n",
      "72.24699621951089 %\n"
     ]
    }
   ],
   "source": [
    "r2_score = regressor.score(x_test,y_test)\n",
    "\n",
    "print(\"R2 score =\", round(metrics.r2_score(y_test, y_pred), 2))\n",
    "print()\n",
    "print(r2_score*100,'%')"
   ]
  },
  {
   "cell_type": "markdown",
   "id": "18da7500",
   "metadata": {},
   "source": [
    "# Decision tree"
   ]
  },
  {
   "cell_type": "code",
   "execution_count": 48,
   "id": "5abbc76c",
   "metadata": {},
   "outputs": [
    {
     "data": {
      "application/javascript": [
       "\n",
       "        if (window._pyforest_update_imports_cell) { window._pyforest_update_imports_cell('from sklearn import metrics\\nfrom sklearn.model_selection import train_test_split'); }\n",
       "    "
      ],
      "text/plain": [
       "<IPython.core.display.Javascript object>"
      ]
     },
     "metadata": {},
     "output_type": "display_data"
    },
    {
     "data": {
      "text/plain": [
       "DecisionTreeRegressor(random_state=0)"
      ]
     },
     "execution_count": 48,
     "metadata": {},
     "output_type": "execute_result"
    }
   ],
   "source": [
    "x_train, x_test,y_train,y_test = train_test_split(x,y, test_size=0.2,random_state=40)\n",
    "\n",
    "# import the regressor\n",
    "from sklearn.tree import DecisionTreeRegressor \n",
    "# create a regressor object\n",
    "regressor = DecisionTreeRegressor(random_state = 0) \n",
    "  \n",
    "# fit the regressor with X and Y data\n",
    "regressor.fit(x, y)"
   ]
  },
  {
   "cell_type": "code",
   "execution_count": 49,
   "id": "0dd37ffc",
   "metadata": {},
   "outputs": [
    {
     "data": {
      "text/plain": [
       "array([0.25806452, 0.64516129, 0.48387097, ..., 0.19354839, 0.22580645,\n",
       "       0.31679308])"
      ]
     },
     "execution_count": 49,
     "metadata": {},
     "output_type": "execute_result"
    }
   ],
   "source": [
    "# predicting a new value\n",
    "  \n",
    "# test the output by changing values, like 3750\n",
    "y_pred = regressor.predict(x_test)\n",
    "  \n",
    "y_pred"
   ]
  },
  {
   "cell_type": "code",
   "execution_count": 50,
   "id": "8d4ab02f",
   "metadata": {},
   "outputs": [
    {
     "name": "stdout",
     "output_type": "stream",
     "text": [
      "91.48872722924472 %\n"
     ]
    }
   ],
   "source": [
    "accuracy = [regressor.score(x_test, y_test)*100]\n",
    "\n",
    "print(regressor.score(x_test, y_test)*100,'%')"
   ]
  },
  {
   "cell_type": "markdown",
   "id": "51b8033c",
   "metadata": {},
   "source": [
    "# Random forest"
   ]
  },
  {
   "cell_type": "code",
   "execution_count": 51,
   "id": "32da75ce",
   "metadata": {},
   "outputs": [],
   "source": [
    "from sklearn.model_selection import train_test_split\n",
    "x_train, x_test, y_train, y_test = train_test_split(x, y, test_size=0.2, random_state=0)"
   ]
  },
  {
   "cell_type": "code",
   "execution_count": 52,
   "id": "b2d9b7ec",
   "metadata": {},
   "outputs": [
    {
     "data": {
      "text/plain": [
       "RandomForestRegressor(random_state=0)"
      ]
     },
     "execution_count": 52,
     "metadata": {},
     "output_type": "execute_result"
    }
   ],
   "source": [
    "from sklearn.ensemble import RandomForestRegressor\n",
    " # create regressor object\n",
    "regressor = RandomForestRegressor(n_estimators = 100, random_state = 0)\n",
    "\n",
    "# fit the regressor with x and y data\n",
    "regressor.fit(x_train, y_train) "
   ]
  },
  {
   "cell_type": "code",
   "execution_count": 53,
   "id": "89b74c2c",
   "metadata": {},
   "outputs": [
    {
     "data": {
      "text/plain": [
       "array([0.31692973, 0.08632061, 0.636     , ..., 0.6853425 , 0.24876616,\n",
       "       0.57972067])"
      ]
     },
     "execution_count": 53,
     "metadata": {},
     "output_type": "execute_result"
    }
   ],
   "source": [
    "# Use the forest's predict method on the test data\n",
    "y_pred= regressor.predict(x_test)\n",
    "y_pred"
   ]
  },
  {
   "cell_type": "code",
   "execution_count": 54,
   "id": "4394d15d",
   "metadata": {},
   "outputs": [
    {
     "name": "stdout",
     "output_type": "stream",
     "text": [
      "Mean Absolute Error: 0.08 degrees.\n"
     ]
    }
   ],
   "source": [
    "# Calculate the absolute errors\n",
    "errors = abs(y_pred - y_test)\n",
    "# Print out the mean absolute error (mae)\n",
    "print('Mean Absolute Error:', round(np.mean(errors), 2), 'degrees.')"
   ]
  },
  {
   "cell_type": "code",
   "execution_count": 55,
   "id": "6b1621bb",
   "metadata": {},
   "outputs": [
    {
     "name": "stdout",
     "output_type": "stream",
     "text": [
      "77.02304322283905 %\n"
     ]
    }
   ],
   "source": [
    "r2_score = regressor.score(x_test,y_test)\n",
    "accuracy=print(r2_score*100,'%')"
   ]
  },
  {
   "cell_type": "code",
   "execution_count": 56,
   "id": "37433282",
   "metadata": {},
   "outputs": [
    {
     "name": "stdout",
     "output_type": "stream",
     "text": [
      "Variable: YearsCodePro         Importance: 0.76\n",
      "Variable: Age                  Importance: 0.09\n",
      "Variable: Age1stCode           Importance: 0.09\n",
      "Variable: CompTotal            Importance: 0.07\n"
     ]
    }
   ],
   "source": [
    "feature_list = list(x.columns)\n",
    "# Get numerical feature importances\n",
    "importances = list(regressor.feature_importances_)\n",
    "# List of tuples with variable and importance\n",
    "feature_importances = [(x, round(importance, 2)) for x, importance in zip(feature_list, importances)]\n",
    "# Sort the feature importances by most important first\n",
    "feature_importances = sorted(feature_importances, key = lambda x: x[1], reverse = True)\n",
    "# Print out the feature and importances \n",
    "[print('Variable: {:20} Importance: {}'.format(*pair)) for pair in feature_importances];"
   ]
  },
  {
   "cell_type": "markdown",
   "id": "154b1be8",
   "metadata": {},
   "source": [
    "# K-Nearest Neighbour"
   ]
  },
  {
   "cell_type": "code",
   "execution_count": 57,
   "id": "ca5200cb",
   "metadata": {},
   "outputs": [
    {
     "name": "stdout",
     "output_type": "stream",
     "text": [
      "\n",
      "Accuracy of Model is : 76.86707764548382 %\n",
      "\n",
      "Prediction is : [0.32258065 0.16774194 0.70322581 ... 0.63870968 0.24516129 0.57419355]\n"
     ]
    }
   ],
   "source": [
    "#Libraries\n",
    "from sklearn.neighbors import KNeighborsRegressor\n",
    "from sklearn.model_selection import GridSearchCV\n",
    "from sklearn.model_selection import KFold\n",
    "from sklearn.model_selection import cross_val_score\n",
    "#Model Building\n",
    "model = KNeighborsRegressor(n_neighbors = 5)\n",
    "model.fit(x_train, y_train)  #fit the model\n",
    "\n",
    "y_pred = model.predict(x_test)\n",
    "accuracy=model.score(x_test, y_test)*100\n",
    "\n",
    "print(\"\\nAccuracy of Model is :\",accuracy,'%')\n",
    "print(\"\\nPrediction is :\",y_pred)"
   ]
  },
  {
   "cell_type": "code",
   "execution_count": 58,
   "id": "4095553d",
   "metadata": {},
   "outputs": [
    {
     "name": "stdout",
     "output_type": "stream",
     "text": [
      "RMSE value for k=  1 is: 0.16043160794934894\n",
      "RMSE value for k=  2 is: 0.13793003300762027\n",
      "RMSE value for k=  3 is: 0.1309657393342185\n",
      "RMSE value for k=  4 is: 0.12721139546157348\n",
      "RMSE value for k=  5 is: 0.12517572773633343\n",
      "RMSE value for k=  6 is: 0.12354368175156762\n",
      "RMSE value for k=  7 is: 0.122464083070814\n",
      "RMSE value for k=  8 is: 0.12198223279837667\n",
      "RMSE value for k=  9 is: 0.12159650942754677\n",
      "RMSE value for k=  10 is: 0.12126675214457452\n"
     ]
    },
    {
     "data": {
      "text/plain": [
       "<AxesSubplot:>"
      ]
     },
     "execution_count": 58,
     "metadata": {},
     "output_type": "execute_result"
    },
    {
     "data": {
      "image/png": "[encoded data removed]",
      "text/plain": [
       "<Figure size 432x288 with 1 Axes>"
      ]
     },
     "metadata": {
      "needs_background": "light"
     },
     "output_type": "display_data"
    }
   ],
   "source": [
    "#import required packages\n",
    "from sklearn import neighbors\n",
    "from sklearn.metrics import mean_squared_error \n",
    "from math import sqrt\n",
    "import matplotlib.pyplot as plt\n",
    "%matplotlib inline\n",
    "rmse_val = [] #to store rmse values for different k\n",
    "for K in range(10):\n",
    "    K = K+1\n",
    "    model = KNeighborsRegressor(n_neighbors = K)\n",
    "\n",
    "    model.fit(x_train, y_train)  #fit the model\n",
    "    pred=model.predict(x_test) #make prediction on test set\n",
    "    error = sqrt(mean_squared_error(y_test,pred)) #calculate rmse\n",
    "    rmse_val.append(error) #store rmse values\n",
    "    print('RMSE value for k= ' , K , 'is:', error)\n",
    "#plotting the rmse values against k values\n",
    "curve = pd.DataFrame(rmse_val) #elbow curve \n",
    "curve.plot()"
   ]
  },
  {
   "cell_type": "markdown",
   "id": "47bf36a0",
   "metadata": {},
   "source": [
    "# xg boost"
   ]
  },
  {
   "cell_type": "code",
   "execution_count": 59,
   "id": "e87a4093",
   "metadata": {},
   "outputs": [],
   "source": [
    "import xgboost as xgb\n",
    "from sklearn.metrics import mean_squared_error"
   ]
  },
  {
   "cell_type": "code",
   "execution_count": 60,
   "id": "68d46e25",
   "metadata": {},
   "outputs": [],
   "source": [
    "x_train, x_test, y_train, y_test = train_test_split(x, y, test_size=0.2, random_state=123)"
   ]
  },
  {
   "cell_type": "code",
   "execution_count": 61,
   "id": "04380b38",
   "metadata": {},
   "outputs": [],
   "source": [
    "xg_reg = xgb.XGBRegressor(objective ='reg:linear', colsample_bytree = 0.3, learning_rate = 0.1,\n",
    "                max_depth = 5, alpha = 10, n_estimators = 10)"
   ]
  },
  {
   "cell_type": "code",
   "execution_count": 62,
   "id": "9abf7f68",
   "metadata": {},
   "outputs": [
    {
     "name": "stdout",
     "output_type": "stream",
     "text": [
      "[22:34:15] WARNING: C:/Users/Administrator/workspace/xgboost-win64_release_1.5.1/src/objective/regression_obj.cu:188: reg:linear is now deprecated in favor of reg:squarederror.\n"
     ]
    }
   ],
   "source": [
    "xg_reg.fit(x_train,y_train)\n",
    "\n",
    "preds = xg_reg.predict(x_test)"
   ]
  },
  {
   "cell_type": "code",
   "execution_count": 63,
   "id": "d7a2bef4",
   "metadata": {},
   "outputs": [
    {
     "data": {
      "text/plain": [
       "array([0.3486663 , 0.3763314 , 0.41046587, ..., 0.3763314 , 0.32479936,\n",
       "       0.6681921 ], dtype=float32)"
      ]
     },
     "execution_count": 63,
     "metadata": {},
     "output_type": "execute_result"
    }
   ],
   "source": [
    "preds"
   ]
  },
  {
   "cell_type": "code",
   "execution_count": 64,
   "id": "e80edb6e",
   "metadata": {},
   "outputs": [
    {
     "name": "stdout",
     "output_type": "stream",
     "text": [
      "RMSE: 0.197847\n"
     ]
    }
   ],
   "source": [
    "rmse = np.sqrt(mean_squared_error(y_test, preds))\n",
    "print(\"RMSE: %f\" % (rmse))"
   ]
  },
  {
   "cell_type": "code",
   "execution_count": 65,
   "id": "c251132c",
   "metadata": {},
   "outputs": [
    {
     "name": "stdout",
     "output_type": "stream",
     "text": [
      "42.18601705834117 %\n"
     ]
    }
   ],
   "source": [
    "r2_score = xg_reg.score(x_test,y_test)\n",
    "\n",
    "accuracy = print(r2_score*100,'%')"
   ]
  }
 ],
 "metadata": {
  "kernelspec": {
   "display_name": "Python 3",
   "language": "python",
   "name": "python3"
  },
  "language_info": {
   "codemirror_mode": {
    "name": "ipython",
    "version": 3
   },
   "file_extension": ".py",
   "mimetype": "text/x-python",
   "name": "python",
   "nbconvert_exporter": "python",
   "pygments_lexer": "ipython3",
   "version": "3.8.8"
  }
 },
 "nbformat": 4,
 "nbformat_minor": 5
}
